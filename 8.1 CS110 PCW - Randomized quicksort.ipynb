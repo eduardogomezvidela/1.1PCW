{
 "cells": [
  {
   "cell_type": "markdown",
   "metadata": {},
   "source": [
    "Before you turn this problem in, make sure everything runs as expected. First, **restart the kernel** (in the menubar, select Kernel$\\rightarrow$Restart) and then **run all cells** (in the menubar, select Cell$\\rightarrow$Run All).\n",
    "\n",
    "Note that this Pre-class Work is estimated to take **44 minutes**.\n",
    "\n",
    "Make sure you fill in any place that says `YOUR CODE HERE` or \"YOUR ANSWER HERE\", as well as your name and collaborators below:"
   ]
  },
  {
   "cell_type": "code",
   "execution_count": null,
   "metadata": {},
   "outputs": [],
   "source": [
    "NAME = \"Eduardo Gomez Videla\"\n",
    "COLLABORATORS = \"\""
   ]
  },
  {
   "cell_type": "markdown",
   "metadata": {},
   "source": [
    "---"
   ]
  },
  {
   "cell_type": "markdown",
   "metadata": {
    "deletable": false,
    "nbgrader": {
     "checksum": "a2025a945eae66ffac9bc4836ac511db",
     "grade": false,
     "grade_id": "cell-f534ec91df9dff5f",
     "locked": true,
     "schema_version": 1,
     "solution": false
    }
   },
   "source": [
    "# CS110 Pre-class Work - Randomized quicksort\n",
    "\n",
    "## Part A. Median-of-3 partitioning quicksort \n",
    "\n",
    "## Question 1 [time estimate: 10 minutes]\n",
    "\n",
    "Read through the following Python code. What does each function (i.e., median, qsort, randomized_qsort, test_qsort) do? Comment in details each function. \n"
   ]
  },
  {
   "cell_type": "code",
   "execution_count": 8,
   "metadata": {},
   "outputs": [
    {
     "name": "stdout",
     "output_type": "stream",
     "text": [
      "0.11863340000002154\n"
     ]
    }
   ],
   "source": [
    "import timeit\n",
    "import random\n",
    "\n",
    "eps = 1e-16\n",
    "N = 10000\n",
    "locations = [0.0, 0.5, 1.0 - eps]\n",
    "\n",
    "# return median from list of 3 values\n",
    "def median(x1, x2, x3):\n",
    "    if (x1 < x2 < x3) or (x3 < x2 < x1): # if x2 is median\n",
    "        return x2\n",
    "    elif (x1 < x3 < x2) or (x2 < x3 < x1): # if x3 is median\n",
    "        return x3\n",
    "    else: # else only remaining var (x1) is the median\n",
    "        return x1\n",
    "\n",
    "# quicksort by getting the median and dividing list to 2 equal length parts\n",
    "def qsort(lst):\n",
    "    indices = [(0, len(lst))]\n",
    "\n",
    "    while indices: # acts similar to for loop executing as many times as the length of the input\n",
    "        (frm, to) = indices.pop() \n",
    "        if frm == to:\n",
    "            continue\n",
    "\n",
    "        # Find the partition:\n",
    "        N = to - frm\n",
    "        inds = [frm + int(N * n) for n in locations]\n",
    "        values = [lst[ind] for ind in inds]\n",
    "        partition = median(*values) # find median and make it partition (ensures more efficient algorithm)\n",
    "\n",
    "        # Split into lists:\n",
    "        lower = [a for a in lst[frm:to] if a < partition] # left side of list (numbers smaller than median)\n",
    "        upper = [a for a in lst[frm:to] if a > partition] # right side of list (numbers bigger than median)\n",
    "        counts = sum([1 for a in lst[frm:to] if a == partition])\n",
    "\n",
    "        ind1 = frm + len(lower)\n",
    "        ind2 = ind1 + counts\n",
    "\n",
    "        # Push back into correct place:\n",
    "        lst[frm:ind1] = lower\n",
    "        lst[ind1:ind2] = [partition] * counts\n",
    "        lst[ind2:to] = upper\n",
    "\n",
    "        # Enqueue other locations\n",
    "        indices.append((frm, ind1))\n",
    "        indices.append((ind2, to))\n",
    "    return lst\n",
    "\n",
    "# randomized version of quicksort\n",
    "def randomized_quicksort():\n",
    "    lst = [i for i in range(N)] # for i in range N (10000)\n",
    "    random.shuffle(lst) # shuffles quicksort input\n",
    "    return qsort(lst) # run & return randomized quicksort\n",
    "\n",
    "# tests if function runs properfly\n",
    "def test_quicksort():\n",
    "    lst = randomized_quicksort()\n",
    "    assert (lst == [i for i in range(N)])\n",
    "\n",
    "\n",
    "# Is our algorithm correct\n",
    "test_quicksort()\n",
    "\n",
    "# How fast is our algorithm\n",
    "print(timeit.timeit(randomized_quicksort, number=1))"
   ]
  },
  {
   "cell_type": "markdown",
   "metadata": {
    "deletable": false,
    "editable": false,
    "nbgrader": {
     "checksum": "61fb11bff1434e4b7276c7443b0267c6",
     "grade": false,
     "grade_id": "cell-a2b2429aa4e81403",
     "locked": true,
     "schema_version": 1,
     "solution": false
    }
   },
   "source": [
    "## Question 2 [time estimate: 3 minutes]\n",
    "\n",
    "What are the main differences between the `randomized_quicksort` in the code and $RANDOMIZED-QUICKSORT$ in Cormen et al., besides that the partition of `randomized_quicksort` uses a median of 3 as a pivot?"
   ]
  },
  {
   "cell_type": "markdown",
   "metadata": {
    "deletable": false,
    "nbgrader": {
     "checksum": "8915b75d94bc194ba0f4e52e475063b4",
     "grade": true,
     "grade_id": "cell-4a3cd727ccac7404",
     "locked": false,
     "points": 0,
     "schema_version": 1,
     "solution": true
    }
   },
   "source": [
    "It looks like the Cormen et al. version of quicksort actually takes a random number as the pivot (partition), while the code implementation on this jupyter notebook will first shuffle the entire unsorted list before running the normal quicksort function. For this reason I believe that the code implementation is not truly random, as it should in theory still find the median in the randomly shuffled list. The other main difference is the use of recursion in Cormen et al. vs use of a while loop in the code."
   ]
  },
  {
   "cell_type": "markdown",
   "metadata": {
    "deletable": false,
    "editable": false,
    "nbgrader": {
     "checksum": "5853f10cab01212736d0e92ce408fa97",
     "grade": false,
     "grade_id": "cell-49bff57d4018e133",
     "locked": true,
     "schema_version": 1,
     "solution": false
    }
   },
   "source": [
    "## Question 3 [time estimate: 10 minutes]\n",
    "\n",
    "What is the time complexity of this `randomized_qsort`? Time the algorithm on lists of various lengths, each list being a list of the first $n$ consecutive positive integers. Produce a graph with list lengths on the x axis and running time on the y axis. As always, don’t forget to time the algorithm several times for each list’s length and then average the results. "
   ]
  },
  {
   "cell_type": "markdown",
   "metadata": {},
   "source": [
    "From the graph below, the time complexity appears to scale linearly (n)."
   ]
  },
  {
   "cell_type": "code",
   "execution_count": 29,
   "metadata": {
    "deletable": false,
    "nbgrader": {
     "checksum": "a321a7fcecb9c9cce252ea2c6030d4ce",
     "grade": true,
     "grade_id": "cell-e0e1dac71ac7feb6",
     "locked": false,
     "points": 0,
     "schema_version": 1,
     "solution": true
    }
   },
   "outputs": [
    {
     "data": {
      "image/png": "[encoded data removed]",
      "text/plain": [
       "<Figure size 432x288 with 1 Axes>"
      ]
     },
     "metadata": {
      "needs_background": "light"
     },
     "output_type": "display_data"
    }
   ],
   "source": [
    "import matplotlib.pyplot as plt \n",
    "\n",
    "# YOUR CODE HERE\n",
    "\n",
    "N = 1\n",
    "average_list = []\n",
    "run_times = []\n",
    "\n",
    "for i in range(1,101):\n",
    "    \n",
    "    for i in range(0,120):\n",
    "        average_list.append(timeit.timeit(randomized_quicksort, number=1))\n",
    "\n",
    "    run_times.append(sum(average_list) / len(average_list)) # append averaged result\n",
    "    average_list = [] # reset average list to use in next trial\n",
    "    N += 1 # increase N by 1\n",
    "\n",
    "x_axis = []\n",
    "for i in range(1, 101):\n",
    "    x_axis.append(i)\n",
    "\n",
    "# plotting the points  \n",
    "plt.plot(x_axis, run_times) \n",
    "  \n",
    "# naming the x axis \n",
    "plt.xlabel('List length') \n",
    "# naming the y axis \n",
    "plt.ylabel('Mean run time in seconds')  \n",
    "  \n",
    "# function to show the plot \n",
    "plt.show() \n",
    "    \n",
    "#raise NotImplementedError()"
   ]
  },
  {
   "cell_type": "markdown",
   "metadata": {
    "deletable": false,
    "editable": false,
    "nbgrader": {
     "checksum": "b8751f930d9dc208113425646ea7fea8",
     "grade": false,
     "grade_id": "cell-1e8309c07c2f2908",
     "locked": true,
     "schema_version": 1,
     "solution": false
    }
   },
   "source": [
    "## Question 4.\n",
    "\n",
    "### Question 4a [time estimate: 7 minutes]\n",
    "\n",
    "Change the `qsort()` function in a way that you **don’t** separate the items that are equal to the partition. In other word, you may want to put the partition in either ```lower``` or ```upper``` list instead of using ``counts`` and ```lst[ind1:ind2] = [partition] * counts``` as we did in question 1."
   ]
  },
  {
   "cell_type": "code",
   "execution_count": 44,
   "metadata": {
    "deletable": false,
    "nbgrader": {
     "checksum": "797888f53fa36bcf0f9d891c4819d8e9",
     "grade": false,
     "grade_id": "cell-a9d1f063c0340b14",
     "locked": false,
     "schema_version": 1,
     "solution": true
    }
   },
   "outputs": [],
   "source": [
    "# quicksort by getting the median and dividing list to 2 equal length parts\n",
    "def qsort_NEW(lst):\n",
    "    indices = [(0, len(lst))]\n",
    "\n",
    "    while indices: # acts similar to for loop executing as many times as the length of the input\n",
    "        (frm, to) = indices.pop() \n",
    "        if frm == to:\n",
    "            continue\n",
    "\n",
    "        # Find the partition:\n",
    "        N = to - frm\n",
    "        inds = [frm + int(N * n) for n in locations]\n",
    "        values = [lst[ind] for ind in inds]\n",
    "        partition = median(*values) # find median and make it partition (ensures more efficient algorithm)\n",
    "\n",
    "        # Split into lists:\n",
    "        lower = [a for a in lst[frm:to + 1] if a < partition] # left side of list (numbers smaller than median)\n",
    "        upper = [a for a in lst[frm:to] if a > partition] # right side of list (numbers bigger than median)\n",
    "        counts = sum([1 for a in lst[frm:to] if a == partition])\n",
    "\n",
    "        ind1 = frm + len(lower)\n",
    "        ind2 = ind1 + counts\n",
    "\n",
    "        # Push back into correct place:\n",
    "        lst[frm:ind1] = lower # by doing this I put the \"partition\" on the left hand side of the list\n",
    "        lst[ind1:ind2] = [partition] * counts\n",
    "        lst[ind2:to] = upper\n",
    "\n",
    "        # Enqueue other locations\n",
    "        indices.append((frm, ind1))\n",
    "        indices.append((ind2, to))\n",
    "    return lst\n",
    "\n",
    "# randomized version of quicksort\n",
    "def randomized_quicksort_NEW():\n",
    "    lst = [i for i in range(N)] # for i in range N (10000)\n",
    "    random.shuffle(lst) # shuffles quicksort input\n",
    "    return qsort_NEW(lst) # run & return randomized quicksort\n"
   ]
  },
  {
   "cell_type": "code",
   "execution_count": 45,
   "metadata": {},
   "outputs": [
    {
     "data": {
      "text/plain": [
       "[1, 2, 3, 4, 5, 6, 7, 8, 10, 12, 21, 45, 87]"
      ]
     },
     "execution_count": 45,
     "metadata": {},
     "output_type": "execute_result"
    }
   ],
   "source": [
    "# test\n",
    "\n",
    "qsort([8,4,6,2,5,7,10,1,3,21,45,87,12])"
   ]
  },
  {
   "cell_type": "code",
   "execution_count": 43,
   "metadata": {
    "deletable": false,
    "editable": false,
    "nbgrader": {
     "checksum": "ce755b787f1b82629d627d2f8bea66a5",
     "grade": true,
     "grade_id": "cell-2c0cbd296d612f85",
     "locked": true,
     "points": 1,
     "schema_version": 1,
     "solution": false
    }
   },
   "outputs": [],
   "source": [
    "assert(qsort([4,2,1])==[1,2,4])\n",
    "assert(qsort([4,4,2,2,1,1])==[1,1,2,2,4,4])\n",
    "assert(qsort([0])==[0])"
   ]
  },
  {
   "cell_type": "markdown",
   "metadata": {
    "deletable": false,
    "editable": false,
    "nbgrader": {
     "checksum": "3f5f9ca976fb636978e2bdfda98a5eeb",
     "grade": false,
     "grade_id": "cell-76883a453f020d72",
     "locked": true,
     "schema_version": 1,
     "solution": false
    }
   },
   "source": [
    "### Question 4b [time estimate: 3 minutes]\n",
    "\n",
    "Now time the algorithm on the same inputs you have used in question 3, adding one more line in the previous graph you have produced. "
   ]
  },
  {
   "cell_type": "markdown",
   "metadata": {},
   "source": [
    "It appears that my attempt at Q4a is not right because the two algorithms have the same running times. I tried to change the algorithm by changing 1 line:\n",
    "\n",
    "from: lower = [a for a in lst[frm:to] if a < partition]\n",
    "\n",
    "to:   lower = [a for a in lst[frm:to + 1] if a < partition]\n",
    "\n",
    "I thought that by adding the +1 the lower (left hand side) of the list would also include the partition."
   ]
  },
  {
   "cell_type": "code",
   "execution_count": 47,
   "metadata": {
    "deletable": false,
    "nbgrader": {
     "checksum": "33188fb282e53d117dfe275067ad3567",
     "grade": true,
     "grade_id": "cell-31ee807cec9ce8bf",
     "locked": false,
     "points": 0,
     "schema_version": 1,
     "solution": true
    }
   },
   "outputs": [
    {
     "data": {
      "image/png": "[encoded data removed]",
      "text/plain": [
       "<Figure size 432x288 with 1 Axes>"
      ]
     },
     "metadata": {
      "needs_background": "light"
     },
     "output_type": "display_data"
    }
   ],
   "source": [
    "import matplotlib.pyplot as plt \n",
    "\n",
    "# YOUR CODE HERE\n",
    "\n",
    "N = 1\n",
    "average_list = []\n",
    "run_times2 = []\n",
    "\n",
    "for i in range(1,101):\n",
    "    \n",
    "    for i in range(0,120):\n",
    "        average_list.append(timeit.timeit(randomized_quicksort_NEW, number=1))\n",
    "\n",
    "    run_times2.append(sum(average_list) / len(average_list)) # append averaged result\n",
    "    average_list = [] # reset average list to use in next trial\n",
    "    N += 1 # increase N by 1\n",
    "\n",
    "x_axis2 = []\n",
    "for i in range(1, 101):\n",
    "    x_axis2.append(i)\n",
    "\n",
    "# plotting the original randomized qsort points  \n",
    "plt.plot(x_axis, run_times)\n",
    "    \n",
    "# plotting the new randomized qsort points  \n",
    "plt.plot(x_axis2, run_times2) \n",
    "  \n",
    "# naming the x axis \n",
    "plt.xlabel('List length') \n",
    "# naming the y axis \n",
    "plt.ylabel('Mean run time in seconds')  \n",
    "  \n",
    "# function to show the plot \n",
    "plt.show() \n",
    "    \n",
    "#raise NotImplementedError()"
   ]
  },
  {
   "cell_type": "markdown",
   "metadata": {
    "deletable": false,
    "editable": false,
    "nbgrader": {
     "checksum": "991ee87c525d8fa29bd448aa80dbf243",
     "grade": false,
     "grade_id": "cell-b666e68e84dfce03",
     "locked": true,
     "schema_version": 1,
     "solution": false
    }
   },
   "source": [
    "## Question 5.\n",
    "\n",
    "### Question 5a [time estimate: 3 minutes]\n",
    "\n",
    "Remove the median-of-3 partitioning, and just use the first element in the array. "
   ]
  },
  {
   "cell_type": "code",
   "execution_count": 52,
   "metadata": {
    "deletable": false,
    "nbgrader": {
     "checksum": "90dbb100f881a2c9a61720a0753ca401",
     "grade": false,
     "grade_id": "cell-4daf36021c15eaf0",
     "locked": false,
     "schema_version": 1,
     "solution": true
    }
   },
   "outputs": [],
   "source": [
    "# quicksort by getting the median and dividing list to 2 equal length parts\n",
    "def qsort_first_element(lst):\n",
    "    indices = [(0, len(lst))]\n",
    "\n",
    "    while indices: # acts similar to for loop executing as many times as the length of the input\n",
    "        (frm, to) = indices.pop() \n",
    "        if frm == to:\n",
    "            continue\n",
    "\n",
    "        # Find the partition:\n",
    "        N = to - frm\n",
    "        inds = [frm + int(N * n) for n in locations]\n",
    "        values = [lst[ind] for ind in inds]\n",
    "        partition = lst[0] # find median and make it partition (ensures more efficient algorithm)\n",
    "\n",
    "        # Split into lists:\n",
    "        lower = [a for a in lst[frm:to] if a < partition] # left side of list (numbers smaller than median)\n",
    "        upper = [a for a in lst[frm:to] if a > partition] # right side of list (numbers bigger than median)\n",
    "        counts = sum([1 for a in lst[frm:to] if a == partition])\n",
    "\n",
    "        ind1 = frm + len(lower)\n",
    "        ind2 = ind1 + counts\n",
    "\n",
    "        # Push back into correct place:\n",
    "        lst[frm:ind1] = lower\n",
    "        lst[ind1:ind2] = [partition] * counts\n",
    "        lst[ind2:to] = upper\n",
    "\n",
    "        # Enqueue other locations\n",
    "        indices.append((frm, ind1))\n",
    "        indices.append((ind2, to))\n",
    "    return lst\n",
    "\n",
    "# randomized version of quicksort\n",
    "def randomized_quicksort_first_element():\n",
    "    lst = [i for i in range(N)] # for i in range N (10000)\n",
    "    random.shuffle(lst) # shuffles quicksort input\n",
    "    return qsort_first_element(lst) # run & return randomized quicksort"
   ]
  },
  {
   "cell_type": "code",
   "execution_count": 53,
   "metadata": {
    "deletable": false,
    "editable": false,
    "nbgrader": {
     "checksum": "9d457eff304d19e031a8eabb4615ca3b",
     "grade": true,
     "grade_id": "cell-97473a9e0d12e745",
     "locked": true,
     "points": 1,
     "schema_version": 1,
     "solution": false
    }
   },
   "outputs": [],
   "source": [
    "assert(qsort([4,2,1])==[1,2,4])\n",
    "assert(qsort([0])==[0])"
   ]
  },
  {
   "cell_type": "markdown",
   "metadata": {
    "deletable": false,
    "editable": false,
    "nbgrader": {
     "checksum": "8f0166e7d0021886bb7176f35011a633",
     "grade": false,
     "grade_id": "cell-2ca71dd53b31262b",
     "locked": true,
     "schema_version": 1,
     "solution": false
    }
   },
   "source": [
    "### Question 5b [time estimate: 3 minutes]\n",
    "\n",
    "Does this change the running time of your algorithm? Justify your response with a graph. \n",
    "\n"
   ]
  },
  {
   "cell_type": "code",
   "execution_count": null,
   "metadata": {
    "deletable": false,
    "nbgrader": {
     "checksum": "bd863db414089f9ead9906b3c2c34a15",
     "grade": true,
     "grade_id": "cell-1f3a6df29d324853",
     "locked": false,
     "points": 0,
     "schema_version": 1,
     "solution": true
    }
   },
   "outputs": [
    {
     "name": "stdout",
     "output_type": "stream",
     "text": [
      "first 1\n",
      "second 0\n",
      "second 1\n",
      "second 2\n",
      "second 3\n",
      "second 4\n",
      "second 5\n",
      "second 6\n",
      "second 7\n",
      "second 8\n",
      "second 9\n",
      "second 10\n",
      "second 11\n",
      "second 12\n",
      "second 13\n",
      "second 14\n",
      "second 15\n",
      "second 16\n",
      "second 17\n",
      "second 18\n",
      "second 19\n",
      "second 20\n",
      "second 21\n",
      "second 22\n",
      "second 23\n",
      "second 24\n",
      "second 25\n",
      "second 26\n",
      "second 27\n",
      "second 28\n",
      "second 29\n",
      "first 2\n",
      "second 0\n",
      "second 1\n"
     ]
    }
   ],
   "source": [
    "N = 1\n",
    "average_list = []\n",
    "run_times2 = []\n",
    "\n",
    "for i in range(1,11):\n",
    "    print('first',i)\n",
    "    \n",
    "    for i in range(0,30):\n",
    "        average_list.append(timeit.timeit(randomized_quicksort_first_element, number=1))\n",
    "        print('second', i)\n",
    "\n",
    "    run_times2.append(sum(average_list) / len(average_list)) # append averaged result\n",
    "    average_list = [] # reset average list to use in next trial\n",
    "    N += 1 # increase N by 1\n",
    "\n",
    "x_axis2 = []\n",
    "for i in range(1, 101):\n",
    "    x_axis2.append(i)\n",
    "    \n",
    "# plotting the new randomized qsort points  \n",
    "plt.plot(x_axis2, run_times2) \n",
    "  \n",
    "# naming the x axis \n",
    "plt.xlabel('List length') \n",
    "# naming the y axis \n",
    "plt.ylabel('Mean run time in seconds')  \n",
    "  \n",
    "# function to show the plot \n",
    "plt.show() "
   ]
  },
  {
   "cell_type": "markdown",
   "metadata": {
    "deletable": false,
    "editable": false,
    "nbgrader": {
     "checksum": "51af6d987694ab6231a6f4aa19f39164",
     "grade": false,
     "grade_id": "cell-67512d1d42af415f",
     "locked": true,
     "schema_version": 1,
     "solution": false
    }
   },
   "source": [
    "## Part B. Recursive quicksort [time estimate: 5 minutes]\n",
    "\n",
    "One main difference between the quicksort algorithms in Cormen et al. and the implementation in the code above is that quick sort (in the code in this notebook) is not recursive, while $QUICKSORT$ in Cormen et al. is. Given the limitation of Python so that it can only make 500 recursive calls, estimate the maximum size of the list that can be sorted by Python if a recursive quicksort is to be used. Explicitly state all assumptions you make in getting to an answer.\n"
   ]
  },
  {
   "cell_type": "markdown",
   "metadata": {
    "deletable": false,
    "nbgrader": {
     "checksum": "7be7bc411376ac8090621f3d68630c10",
     "grade": true,
     "grade_id": "cell-4af5aab4ad1a7225",
     "locked": false,
     "points": 0,
     "schema_version": 1,
     "solution": true
    }
   },
   "source": [
    "I was not able to answer this question. I am not sure where I would start to make this estimation."
   ]
  }
 ],
 "metadata": {
  "celltoolbar": "Edit Metadata",
  "kernelspec": {
   "display_name": "Python 3",
   "language": "python",
   "name": "python3"
  },
  "language_info": {
   "codemirror_mode": {
    "name": "ipython",
    "version": 3
   },
   "file_extension": ".py",
   "mimetype": "text/x-python",
   "name": "python",
   "nbconvert_exporter": "python",
   "pygments_lexer": "ipython3",
   "version": "3.8.3"
  }
 },
 "nbformat": 4,
 "nbformat_minor": 2
}
