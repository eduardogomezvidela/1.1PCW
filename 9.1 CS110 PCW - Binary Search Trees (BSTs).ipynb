{
 "cells": [
  {
   "cell_type": "markdown",
   "metadata": {},
   "source": [
    "Before you turn this problem in, make sure everything runs as expected. First, **restart the kernel** (in the menubar, select Kernel$\\rightarrow$Restart) and then **run all cells** (in the menubar, select Cell$\\rightarrow$Run All).\n",
    "\n",
    "Note that this Pre-class Work is estimated to take **37 minutes**.\n",
    "\n",
    "Make sure you fill in any place that says `YOUR CODE HERE` or \"YOUR ANSWER HERE\", as well as your name and collaborators below:"
   ]
  },
  {
   "cell_type": "code",
   "execution_count": null,
   "metadata": {},
   "outputs": [],
   "source": [
    "NAME = \"Eduardo Gomez Videla\"\n",
    "COLLABORATORS = \"\""
   ]
  },
  {
   "cell_type": "markdown",
   "metadata": {},
   "source": [
    "---"
   ]
  },
  {
   "cell_type": "markdown",
   "metadata": {
    "deletable": false,
    "editable": false,
    "nbgrader": {
     "checksum": "dcf331a073440fc878c931847bcad205",
     "grade": false,
     "grade_id": "cell-856b478addb28fe9",
     "locked": true,
     "schema_version": 1,
     "solution": false
    }
   },
   "source": [
    "# CS110 Pre-class Work - Binary Search Trees (BSTs)\n",
    "\n",
    "## Question 1. (Exercise 12.2-1, Cormen et al.) [time estimate: 5 minutes]\n",
    "\n",
    "Suppose that we have numbers between 1 and 1000 in a binary search tree, and we want to search for the number 363. Which of the following sequences could not be the sequence of nodes examined?\n",
    "\n",
    "a. 2, 252, 401, 398, 330, 344, 397, 363.\n",
    "\n",
    "b. 924, 220, 911, 244, 898, 258, 362, 363.\n",
    "\n",
    "c. 925, 202, 911, 240, 912, 245, 363.\n",
    "\n",
    "d. 2, 399, 387, 219, 266, 382, 381, 278, 363.\n",
    "\n",
    "e. 935, 278, 347, 621, 299, 392, 358, 363.\n"
   ]
  },
  {
   "cell_type": "markdown",
   "metadata": {
    "deletable": false,
    "nbgrader": {
     "checksum": "caad0ddbf7180e6e9f1cf54ef809d5a8",
     "grade": true,
     "grade_id": "cell-4ba31a88562b2669",
     "locked": false,
     "points": 0,
     "schema_version": 1,
     "solution": true
    }
   },
   "source": [
    "Option C is wrong. When we reach 911, every other node after it has to be either larger or smaller than it. Since the next value is 240, we assume that all other nodes will also be smaller, but then we encounter 912."
   ]
  },
  {
   "cell_type": "markdown",
   "metadata": {
    "deletable": false,
    "editable": false,
    "nbgrader": {
     "checksum": "2608634a994745e8cabbc68e04197aeb",
     "grade": false,
     "grade_id": "cell-e2fe6a81a328e94e",
     "locked": true,
     "schema_version": 1,
     "solution": false
    }
   },
   "source": [
    "## Question 2. Comparing complexities [time estimate: 7 minutes]\n",
    "Complete the following table with the average vs worst case complexities for the data structures in each row.\n",
    "\n",
    "You should copy the following table and paste and edit it in the cell below. \n",
    "\n",
    "Operations | BST | Hash table using open addressing | Min heap\n",
    "--- | --- | --- | ---\n",
    "Search |  |  |\n",
    "Find max |  |  |\n",
    "Find min |  |  |\n",
    "Max extraction  |  |  |\n",
    "Min extraction |  |  |\n",
    "Find successor |  |  |\n",
    "Find predecessor |  |  |\n",
    "Insert |  |  |\n",
    "Delete |  |  |\n",
    "\n"
   ]
  },
  {
   "cell_type": "markdown",
   "metadata": {
    "deletable": false,
    "nbgrader": {
     "checksum": "b333dea7231946830dc83e0374b46384",
     "grade": true,
     "grade_id": "cell-103e7647a8a92a95",
     "locked": false,
     "points": 0,
     "schema_version": 1,
     "solution": true
    }
   },
   "source": [
    "Operations | BST | Hash table using open addressing | Min heap\n",
    "--- | --- | --- | ---\n",
    "Search | O(log n) O(n) | O(1) O(n) |\n",
    "Find max | O(log n) O(n) |  |\n",
    "Find min | O(log n) O(n) |  | O(1)\n",
    "Max extraction  | O(log n) O(n) |  |\n",
    "Min extraction | O(log n) O(n) |  | O(1)\n",
    "Find successor | O(log n) O(n) |  |\n",
    "Find predecessor | O(log n) O(n) |  |\n",
    "Insert | O(log n) O(n) | O(1) O(n) | O(log n)\n",
    "Delete | O(log n) O(n) | O(1) O(n) | O(log n)"
   ]
  },
  {
   "cell_type": "markdown",
   "metadata": {
    "deletable": false,
    "editable": false,
    "nbgrader": {
     "checksum": "350918858ed77bb73434c159714237a6",
     "grade": false,
     "grade_id": "cell-f0b8945e898ae4eb",
     "locked": true,
     "schema_version": 1,
     "solution": false
    }
   },
   "source": [
    "## Question 3. Programming a recursive BST [time estimate: 12 minutes]\n",
    "\n",
    "Given the code in the cell below, write python code for the corresponding functions:\n",
    "\n",
    "* function `search(self, value)`: searches a *non-empty* BST rooted at the node for a node with `data=value`, returns the node if found, None otherwise\n",
    "* function `inorder(self)`: returns a list of all data in the tree rooted at root produced using an in order traversal. When correctly implemented on a BST, the produced list will be sorted in ascending order.\n",
    "\n",
    "You may find it useful to define additional helper functions.\n"
   ]
  },
  {
   "cell_type": "code",
   "execution_count": 42,
   "metadata": {
    "deletable": false,
    "nbgrader": {
     "checksum": "d30a8a11c0dc7730c76d82543f16814f",
     "grade": false,
     "grade_id": "cell-699ae21855637a38",
     "locked": false,
     "schema_version": 1,
     "solution": true
    }
   },
   "outputs": [],
   "source": [
    "## Binary Search Tree\n",
    "##\n",
    "class Node:\n",
    "    def __init__(self, val):\n",
    "        self.l_child = None\n",
    "        self.r_child = None\n",
    "        self.parent = None\n",
    "        self.data = val\n",
    "\n",
    "    def insert(self, node):\n",
    "        \"\"\"inserts a node into a *non-empty* tree rooted at the node, returns\n",
    "        the root\"\"\"\n",
    "        if self.data > node.data:\n",
    "            if self.l_child is None:\n",
    "                self.l_child = node\n",
    "                node.parent = self\n",
    "            else:\n",
    "                self.l_child.insert(node)\n",
    "        else:\n",
    "            if self.r_child is None:\n",
    "                self.r_child = node\n",
    "                node.parent = self\n",
    "            else:\n",
    "                self.r_child.insert(node)\n",
    "        return self\n",
    "    \n",
    "    def minimum(self):\n",
    "        node = self\n",
    "        while node.l_child != None:\n",
    "            node = node.l_child\n",
    "        return node\n",
    "\n",
    "    def search_data(self, value):\n",
    "        \"\"\"searches a *non-empty* tree rooted at the node for a node with\n",
    "        data = value, returns the value if found, None otherwise\"\"\"\n",
    "        node = self.search(value)\n",
    "        if node:\n",
    "            return node.data\n",
    "        else:\n",
    "            return node\n",
    "        \n",
    "    def to_string(self): \n",
    "        print('self.data', self.data)\n",
    "        root=self\n",
    "        if not root: \n",
    "            return 'Nil'\n",
    "        else: \n",
    "            r = root.r_child.to_string() if root.r_child else 'Nil'\n",
    "            l = root.l_child.to_string() if root.l_child else 'Nil'\n",
    "        return 'Node(' + str(root.data) + ' L: ' + l + ' R: ' + r + ')'\n",
    "    def delete(self, value):\n",
    "        def transplant(node1, node2):\n",
    "            \"\"\"\n",
    "            replaces the subtree rooted at node1 with the subtree rooted at node2\n",
    "            \"\"\"\n",
    "            nonlocal root\n",
    "            if node1.parent == None:\n",
    "                root = node2\n",
    "            elif node1 == node1.parent.l_child:\n",
    "                node1.parent.l_child = node2\n",
    "            else:\n",
    "                node1.parent.r_child = node2\n",
    "            if node2 != None:\n",
    "                node2.parent = node1.parent\n",
    "\n",
    "        \"\"\"if a node with data = value is present in the tree rooted at Node, deletes that node and returns the root\"\"\"\n",
    "        root = self\n",
    "        node = root.search(value)\n",
    "        if node:\n",
    "            if node.l_child is None:\n",
    "                transplant(node, node.r_child)\n",
    "            elif node.r_child == None:\n",
    "                transplant(node, node.l_child)\n",
    "            else:\n",
    "                y = node.r_child.minimum() # y = minimum(node.r_child)\n",
    "                if y.parent != node:\n",
    "                    transplant(y, y.r_child)\n",
    "                    y.r_child = node.r_child\n",
    "                    y.r_child.parent = y\n",
    "                transplant(node, y)\n",
    "                y.l_child = node.l_child\n",
    "                y.l_child.parent = y\n",
    "        return root\n",
    "\n",
    "    # YOUR CODE HERE\n",
    "    \n",
    "    # Print BST in ascending order\n",
    "    def inorder(self):\n",
    "        \n",
    "        # base case\n",
    "        if self == None:\n",
    "            return\n",
    "        \n",
    "        # recurse left child (until we get the smallest element)\n",
    "        inorder(node.l_child)\n",
    "        print(self.data)\n",
    "        \n",
    "        # recurse right child\n",
    "        inorder(node.r_child)\n",
    "        \n",
    "\n",
    "    # search for inputted value and return its node\n",
    "    def search(self, value):\n",
    "        \n",
    "        if self == None: # base case 1 - reached leaf, value not found\n",
    "            print(\"Value not found\")\n",
    "            return None\n",
    "            \n",
    "        elif self == value: # base case 2 - value found\n",
    "                print(\"Found value in node\", node)\n",
    "                return node\n",
    "            \n",
    "        elif self < value: # look at left child - recurse\n",
    "            search(self.l_child)\n",
    "            \n",
    "        elif self > value: # look at right child - recurse\n",
    "            search(self.r_child)\n",
    "        \n",
    "    #raise NotImplementedError()\n"
   ]
  },
  {
   "cell_type": "code",
   "execution_count": 43,
   "metadata": {},
   "outputs": [
    {
     "name": "stdout",
     "output_type": "stream",
     "text": [
      "3\n"
     ]
    },
    {
     "data": {
      "text/plain": [
       "<bound method Node.inorder of <__main__.Node object at 0x000001EF7ABB2E50>>"
      ]
     },
     "execution_count": 43,
     "metadata": {},
     "output_type": "execute_result"
    }
   ],
   "source": [
    "a = Node(1)\n",
    "b = Node(2)\n",
    "c = Node(3)\n",
    "d = Node(4)\n",
    "e = Node(5)\n",
    "f = Node(6)\n",
    "g = Node(7)\n",
    "h = Node(8)\n",
    "i = Node(9)\n",
    "j = Node(10)\n",
    "\n",
    "print(c.data)\n",
    "\n",
    "b.inorder"
   ]
  },
  {
   "cell_type": "markdown",
   "metadata": {
    "deletable": false,
    "nbgrader": {
     "checksum": "4b67b5285b803538fc34c696acb4fce3",
     "grade": false,
     "grade_id": "cell-50a5730f995c1ec5",
     "locked": true,
     "schema_version": 1,
     "solution": false
    }
   },
   "source": [
    "## Question 4 [time estimate: 10 minutes]\n",
    "\n",
    "Run the testing code provided in the cell below to generate a sequence of random inserts, followed by a sequence of random deletes, and finally followed by a sequence of random searches. Apply this sequence to your BST implementation and determine what is the output of the inorder traversal. Now you will need to check whether you find a sorted array of nodes. If the results match, does this mean your code is free of bugs? Provide your answer to these questions in the cells provided below."
   ]
  },
  {
   "cell_type": "code",
   "execution_count": 44,
   "metadata": {},
   "outputs": [
    {
     "name": "stdout",
     "output_type": "stream",
     "text": [
      "Inserting the following node:  8\n",
      "Inserting the following node:  5\n",
      "Inserting the following node:  9\n",
      "Inserting the following node:  7\n",
      "Inserting the following node:  1\n",
      "Inserting the following node:  3\n",
      "Inserting the following node:  6\n",
      "Inserting the following node:  4\n",
      "Inserting the following node:  4\n",
      "Inserting the following node:  10\n"
     ]
    },
    {
     "ename": "NameError",
     "evalue": "name 'inorder' is not defined",
     "output_type": "error",
     "traceback": [
      "\u001b[1;31m---------------------------------------------------------------------------\u001b[0m",
      "\u001b[1;31mNameError\u001b[0m                                 Traceback (most recent call last)",
      "\u001b[1;32m<ipython-input-44-01712f5a8c39>\u001b[0m in \u001b[0;36m<module>\u001b[1;34m\u001b[0m\n\u001b[0;32m     10\u001b[0m         \u001b[0mbst\u001b[0m\u001b[1;33m.\u001b[0m\u001b[0minsert\u001b[0m\u001b[1;33m(\u001b[0m\u001b[0mx\u001b[0m\u001b[1;33m)\u001b[0m\u001b[1;33m\u001b[0m\u001b[1;33m\u001b[0m\u001b[0m\n\u001b[0;32m     11\u001b[0m \u001b[1;33m\u001b[0m\u001b[0m\n\u001b[1;32m---> 12\u001b[1;33m \u001b[0mprint\u001b[0m\u001b[1;33m(\u001b[0m\u001b[1;34m'In order traversal: '\u001b[0m\u001b[1;33m,\u001b[0m \u001b[0mbst\u001b[0m\u001b[1;33m.\u001b[0m\u001b[0minorder\u001b[0m\u001b[1;33m(\u001b[0m\u001b[1;33m)\u001b[0m\u001b[1;33m)\u001b[0m\u001b[1;33m\u001b[0m\u001b[1;33m\u001b[0m\u001b[0m\n\u001b[0m\u001b[0;32m     13\u001b[0m \u001b[1;33m\u001b[0m\u001b[0m\n\u001b[0;32m     14\u001b[0m \u001b[1;31m# Looking for and deleting certain nodes\u001b[0m\u001b[1;33m\u001b[0m\u001b[1;33m\u001b[0m\u001b[1;33m\u001b[0m\u001b[0m\n",
      "\u001b[1;32m<ipython-input-42-a4a41307ba6d>\u001b[0m in \u001b[0;36minorder\u001b[1;34m(self)\u001b[0m\n\u001b[0;32m     93\u001b[0m \u001b[1;33m\u001b[0m\u001b[0m\n\u001b[0;32m     94\u001b[0m         \u001b[1;31m# recurse left child (until we get the smallest element)\u001b[0m\u001b[1;33m\u001b[0m\u001b[1;33m\u001b[0m\u001b[1;33m\u001b[0m\u001b[0m\n\u001b[1;32m---> 95\u001b[1;33m         \u001b[0minorder\u001b[0m\u001b[1;33m(\u001b[0m\u001b[0mnode\u001b[0m\u001b[1;33m.\u001b[0m\u001b[0ml_child\u001b[0m\u001b[1;33m)\u001b[0m\u001b[1;33m\u001b[0m\u001b[1;33m\u001b[0m\u001b[0m\n\u001b[0m\u001b[0;32m     96\u001b[0m         \u001b[0mprint\u001b[0m\u001b[1;33m(\u001b[0m\u001b[0mself\u001b[0m\u001b[1;33m.\u001b[0m\u001b[0mdata\u001b[0m\u001b[1;33m)\u001b[0m\u001b[1;33m\u001b[0m\u001b[1;33m\u001b[0m\u001b[0m\n\u001b[0;32m     97\u001b[0m \u001b[1;33m\u001b[0m\u001b[0m\n",
      "\u001b[1;31mNameError\u001b[0m: name 'inorder' is not defined"
     ]
    }
   ],
   "source": [
    "import random\n",
    "bst = None \n",
    "\n",
    "# Creating a BST and adding nodes to it\n",
    "for x in [Node(random.randint(0,10)) for _ in range(10)]:\n",
    "    print('Inserting the following node: ', x.data)\n",
    "    if not bst:\n",
    "        bst = x\n",
    "    else:\n",
    "        bst.insert(x)\n",
    "\n",
    "print('In order traversal: ', bst.inorder())\n",
    "\n",
    "# Looking for and deleting certain nodes\n",
    "for x in [random.randint(0,10) for _ in range(4)]:\n",
    "    print('Look for the following node: ', x)\n",
    "    if bst.search_data(x):\n",
    "        print(' Node exists, hence removing the Node...')\n",
    "        bst = bst.delete(x)\n",
    "    else:\n",
    "        print(' Node does not exist and cannot be removed!')\n",
    "\n",
    "# Final state of the BST\n",
    "print('In order traversal of final BST: ', bst.inorder())"
   ]
  },
  {
   "cell_type": "code",
   "execution_count": null,
   "metadata": {
    "deletable": false,
    "nbgrader": {
     "checksum": "f4207134a8d246d41f1b002c079e5d59",
     "grade": false,
     "grade_id": "cell-ebddd4da79a3da28",
     "locked": false,
     "schema_version": 1,
     "solution": true
    }
   },
   "outputs": [],
   "source": [
    "# YOUR CODE HERE\n",
    "raise NotImplementedError()"
   ]
  },
  {
   "cell_type": "markdown",
   "metadata": {
    "deletable": false,
    "nbgrader": {
     "checksum": "11743c20bdd473ed59d8b90c514f6176",
     "grade": true,
     "grade_id": "cell-1af64135f3359698",
     "locked": false,
     "points": 0,
     "schema_version": 1,
     "solution": true
    }
   },
   "source": [
    "YOUR ANSWER HERE"
   ]
  }
 ],
 "metadata": {
  "kernelspec": {
   "display_name": "Python 3",
   "language": "python",
   "name": "python3"
  },
  "language_info": {
   "codemirror_mode": {
    "name": "ipython",
    "version": 3
   },
   "file_extension": ".py",
   "mimetype": "text/x-python",
   "name": "python",
   "nbconvert_exporter": "python",
   "pygments_lexer": "ipython3",
   "version": "3.8.3"
  }
 },
 "nbformat": 4,
 "nbformat_minor": 2
}
